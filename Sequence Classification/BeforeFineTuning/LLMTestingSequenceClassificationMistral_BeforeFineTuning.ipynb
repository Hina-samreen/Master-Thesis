{
 "cells": [
  {
   "cell_type": "code",
   "execution_count": null,
   "metadata": {},
   "outputs": [],
   "source": [
    "%pip install pandas\n",
    "%pip install transformers\n",
    "%pip install accelerate"
   ]
  },
  {
   "cell_type": "code",
   "execution_count": 1,
   "metadata": {},
   "outputs": [
    {
     "name": "stdout",
     "output_type": "stream",
     "text": [
      "env: CUDA_DEVICE_ORDER=PCI_BUS_ID\n",
      "env: CUDA_VISIBLE_DEVICES=4\n"
     ]
    }
   ],
   "source": [
    "%env CUDA_DEVICE_ORDER=PCI_BUS_ID\n",
    "%env CUDA_VISIBLE_DEVICES=4"
   ]
  },
  {
   "cell_type": "code",
   "execution_count": 2,
   "metadata": {},
   "outputs": [
    {
     "name": "stdout",
     "output_type": "stream",
     "text": [
      "cuda\n"
     ]
    }
   ],
   "source": [
    "import torch\n",
    "device = 'cuda' if torch.cuda.is_available() else 'cpu'\n",
    "print(device)"
   ]
  },
  {
   "cell_type": "code",
   "execution_count": 31,
   "metadata": {},
   "outputs": [],
   "source": [
    "import pandas as pd\n",
    "df = pd.read_csv('test_subset.csv')\n"
   ]
  },
  {
   "cell_type": "code",
   "execution_count": 4,
   "metadata": {},
   "outputs": [],
   "source": [
    "texts = list(df.text)\n"
   ]
  },
  {
   "cell_type": "code",
   "execution_count": null,
   "metadata": {},
   "outputs": [],
   "source": [
    "from transformers import AutoTokenizer, AutoModelForCausalLM\n",
    "\n",
    "model_name = \"mistralai/Mistral-7B-Instruct-v0.3\"\n",
    "tokenizer = AutoTokenizer.from_pretrained(model_name)\n",
    "model = AutoModelForCausalLM.from_pretrained(model_name, device_map=\"auto\")\n",
    "\n",
    "prompt = f\"Classify the sentiment of each text into ONE of the three classes: neutral, negative or positive. Split the answer in a dictionary with two keys:Text and Label. Text: \"\n",
    "\n",
    "answers = []\n",
    "#text_list =[ \"Ukraine deckt auf 😂😂😂😂😂\\nDie mussten was sagen, nicht das man denkt der Staat wäre korrupt und es würde keinen Kampf dagegen geben ☝️\\n\\nKorrupt bleibt korrupt - auch die, da wird sich auch nichts änder 😆\",'Nur Politiker wollen Krieg ! Was wenn keiner mehr Bock hat für diese 5 Politiker zu sterben warum drehen wir den Spieß nich einfach um ? 😕 frage für n Freund']\n",
    "for text in texts:\n",
    "    chat_template = [{\"role\" : \"user\", \"content\" : f\"{prompt} {text}\"}]\n",
    "\n",
    "    chat_prompt = tokenizer.apply_chat_template(chat_template, tokenize=False, add_generation_prompt=True)\n",
    "    inputs = tokenizer.encode(chat_prompt, add_special_tokens=False, return_tensors=\"pt\", max_length=512)\n",
    "    outputs = model.generate(input_ids=inputs.to(\"cuda\"), max_new_tokens = 512)\n",
    "    answer = tokenizer.decode(outputs[0])\n",
    "    answers.append(answer)\n",
    "    print(answer)\n",
    "print(len(answers))"
   ]
  },
  {
   "cell_type": "code",
   "execution_count": null,
   "metadata": {},
   "outputs": [],
   "source": [
    "labels = ['negative','neutral','positive']\n",
    "predicted_labels = []\n",
    "for answer in answers:\n",
    "    label = answer.split('[/INST]')[1].split(':')[2].split('}')[0].lower().strip(' \"\" ').strip().strip(' \" ')\n",
    "    print(label)\n",
    "    if label in labels:\n",
    "        predicted_labels.append(label)\n",
    "    else:\n",
    "        predicted_labels.append('NA')\n",
    "len(predicted_labels)\n"
   ]
  },
  {
   "cell_type": "code",
   "execution_count": 33,
   "metadata": {},
   "outputs": [
    {
     "data": {
      "text/html": [
       "<div>\n",
       "<style scoped>\n",
       "    .dataframe tbody tr th:only-of-type {\n",
       "        vertical-align: middle;\n",
       "    }\n",
       "\n",
       "    .dataframe tbody tr th {\n",
       "        vertical-align: top;\n",
       "    }\n",
       "\n",
       "    .dataframe thead th {\n",
       "        text-align: right;\n",
       "    }\n",
       "</style>\n",
       "<table border=\"1\" class=\"dataframe\">\n",
       "  <thead>\n",
       "    <tr style=\"text-align: right;\">\n",
       "      <th></th>\n",
       "      <th>user</th>\n",
       "      <th>instance_id</th>\n",
       "      <th>text</th>\n",
       "      <th>sentiment</th>\n",
       "      <th>negative object_spans</th>\n",
       "      <th>negative spans</th>\n",
       "      <th>positive spans</th>\n",
       "      <th>positive object_spans</th>\n",
       "      <th>predicted_labels</th>\n",
       "    </tr>\n",
       "  </thead>\n",
       "  <tbody>\n",
       "    <tr>\n",
       "      <th>0</th>\n",
       "      <td>ekaterini@gmail.com</td>\n",
       "      <td>898</td>\n",
       "      <td>Nur Politiker wollen Krieg ! Was wenn keiner m...</td>\n",
       "      <td>negative</td>\n",
       "      <td>['Politiker ', 'Krieg ']</td>\n",
       "      <td>['Was wenn keiner mehr Bock hat', 'zu sterben'...</td>\n",
       "      <td>...</td>\n",
       "      <td>...</td>\n",
       "      <td>negative</td>\n",
       "    </tr>\n",
       "    <tr>\n",
       "      <th>1</th>\n",
       "      <td>ekaterini@gmail.com</td>\n",
       "      <td>833</td>\n",
       "      <td>Der Klimawandel ist ein völlig normaler Prozes...</td>\n",
       "      <td>positive</td>\n",
       "      <td>...</td>\n",
       "      <td>...</td>\n",
       "      <td>völlig normaler Prozess</td>\n",
       "      <td>Klimawandel</td>\n",
       "      <td>neutral</td>\n",
       "    </tr>\n",
       "    <tr>\n",
       "      <th>2</th>\n",
       "      <td>ekaterini@gmail.com</td>\n",
       "      <td>1428</td>\n",
       "      <td>Man will die Stadthalle für einen #Bürgerdialo...</td>\n",
       "      <td>negative</td>\n",
       "      <td>Demokraten</td>\n",
       "      <td>['missliebige Partei ', 'Was denken die']</td>\n",
       "      <td>...</td>\n",
       "      <td>...</td>\n",
       "      <td>negative</td>\n",
       "    </tr>\n",
       "    <tr>\n",
       "      <th>3</th>\n",
       "      <td>ekaterini@gmail.com</td>\n",
       "      <td>431</td>\n",
       "      <td>Besonders beliebt ist auch \"Wir mussten währen...</td>\n",
       "      <td>negative</td>\n",
       "      <td>Corona</td>\n",
       "      <td>die während Corona auch gern auf die Maske ver...</td>\n",
       "      <td>...</td>\n",
       "      <td>...</td>\n",
       "      <td>negative</td>\n",
       "    </tr>\n",
       "    <tr>\n",
       "      <th>4</th>\n",
       "      <td>ekaterini@gmail.com</td>\n",
       "      <td>1315</td>\n",
       "      <td>Die USA sollten sich mäßigen Israel zu ermahne...</td>\n",
       "      <td>positive</td>\n",
       "      <td>...</td>\n",
       "      <td>...</td>\n",
       "      <td>handelt moralisch richtig</td>\n",
       "      <td>['Israel ', 'Israel ']</td>\n",
       "      <td>neutral</td>\n",
       "    </tr>\n",
       "    <tr>\n",
       "      <th>...</th>\n",
       "      <td>...</td>\n",
       "      <td>...</td>\n",
       "      <td>...</td>\n",
       "      <td>...</td>\n",
       "      <td>...</td>\n",
       "      <td>...</td>\n",
       "      <td>...</td>\n",
       "      <td>...</td>\n",
       "      <td>...</td>\n",
       "    </tr>\n",
       "    <tr>\n",
       "      <th>262</th>\n",
       "      <td>ekaterini@gmail.com</td>\n",
       "      <td>1219</td>\n",
       "      <td>Mit dem Rassisten und Ultra nationalen Netanya...</td>\n",
       "      <td>negative</td>\n",
       "      <td>Netanyahu</td>\n",
       "      <td>['Rassisten', 'keine Verhandlungen mehr möglic...</td>\n",
       "      <td>...</td>\n",
       "      <td>...</td>\n",
       "      <td>negative</td>\n",
       "    </tr>\n",
       "    <tr>\n",
       "      <th>263</th>\n",
       "      <td>ekaterini@gmail.com</td>\n",
       "      <td>1134</td>\n",
       "      <td>Auch Israel begeht Kriegsverbrechen an der Ziv...</td>\n",
       "      <td>negative</td>\n",
       "      <td>Israel</td>\n",
       "      <td>['begeht Kriegsverbrechen', 'aber Kritik an Is...</td>\n",
       "      <td>...</td>\n",
       "      <td>...</td>\n",
       "      <td>negative</td>\n",
       "    </tr>\n",
       "    <tr>\n",
       "      <th>264</th>\n",
       "      <td>ekaterini@gmail.com</td>\n",
       "      <td>127</td>\n",
       "      <td>Sogenannte Zivilisten? geht's noch?</td>\n",
       "      <td>negative</td>\n",
       "      <td>...</td>\n",
       "      <td>geht's noch?</td>\n",
       "      <td>...</td>\n",
       "      <td>...</td>\n",
       "      <td>neutral</td>\n",
       "    </tr>\n",
       "    <tr>\n",
       "      <th>265</th>\n",
       "      <td>ekaterini@gmail.com</td>\n",
       "      <td>366</td>\n",
       "      <td>Ganz normal, dass wir in Zeiten der Klimakrise...</td>\n",
       "      <td>negative</td>\n",
       "      <td>Klimakrise</td>\n",
       "      <td>['hypokapitalistischen', 'Nice one, Humanity',...</td>\n",
       "      <td>...</td>\n",
       "      <td>...</td>\n",
       "      <td>positive</td>\n",
       "    </tr>\n",
       "    <tr>\n",
       "      <th>266</th>\n",
       "      <td>ekaterini@gmail.com</td>\n",
       "      <td>125</td>\n",
       "      <td>Hamas wird wie immer die Feuerpause brechen. D...</td>\n",
       "      <td>negative</td>\n",
       "      <td>Hamas</td>\n",
       "      <td>['Feuerpause brechen', 'Die wollen keinen Frie...</td>\n",
       "      <td>...</td>\n",
       "      <td>...</td>\n",
       "      <td>negative</td>\n",
       "    </tr>\n",
       "  </tbody>\n",
       "</table>\n",
       "<p>267 rows × 9 columns</p>\n",
       "</div>"
      ],
      "text/plain": [
       "                    user  instance_id  \\\n",
       "0    ekaterini@gmail.com          898   \n",
       "1    ekaterini@gmail.com          833   \n",
       "2    ekaterini@gmail.com         1428   \n",
       "3    ekaterini@gmail.com          431   \n",
       "4    ekaterini@gmail.com         1315   \n",
       "..                   ...          ...   \n",
       "262  ekaterini@gmail.com         1219   \n",
       "263  ekaterini@gmail.com         1134   \n",
       "264  ekaterini@gmail.com          127   \n",
       "265  ekaterini@gmail.com          366   \n",
       "266  ekaterini@gmail.com          125   \n",
       "\n",
       "                                                  text sentiment  \\\n",
       "0    Nur Politiker wollen Krieg ! Was wenn keiner m...  negative   \n",
       "1    Der Klimawandel ist ein völlig normaler Prozes...  positive   \n",
       "2    Man will die Stadthalle für einen #Bürgerdialo...  negative   \n",
       "3    Besonders beliebt ist auch \"Wir mussten währen...  negative   \n",
       "4    Die USA sollten sich mäßigen Israel zu ermahne...  positive   \n",
       "..                                                 ...       ...   \n",
       "262  Mit dem Rassisten und Ultra nationalen Netanya...  negative   \n",
       "263  Auch Israel begeht Kriegsverbrechen an der Ziv...  negative   \n",
       "264                Sogenannte Zivilisten? geht's noch?  negative   \n",
       "265  Ganz normal, dass wir in Zeiten der Klimakrise...  negative   \n",
       "266  Hamas wird wie immer die Feuerpause brechen. D...  negative   \n",
       "\n",
       "        negative object_spans  \\\n",
       "0    ['Politiker ', 'Krieg ']   \n",
       "1                         ...   \n",
       "2                  Demokraten   \n",
       "3                     Corona    \n",
       "4                         ...   \n",
       "..                        ...   \n",
       "262                 Netanyahu   \n",
       "263                    Israel   \n",
       "264                       ...   \n",
       "265                Klimakrise   \n",
       "266                    Hamas    \n",
       "\n",
       "                                        negative spans  \\\n",
       "0    ['Was wenn keiner mehr Bock hat', 'zu sterben'...   \n",
       "1                                                  ...   \n",
       "2            ['missliebige Partei ', 'Was denken die']   \n",
       "3    die während Corona auch gern auf die Maske ver...   \n",
       "4                                                  ...   \n",
       "..                                                 ...   \n",
       "262  ['Rassisten', 'keine Verhandlungen mehr möglic...   \n",
       "263  ['begeht Kriegsverbrechen', 'aber Kritik an Is...   \n",
       "264                                       geht's noch?   \n",
       "265  ['hypokapitalistischen', 'Nice one, Humanity',...   \n",
       "266  ['Feuerpause brechen', 'Die wollen keinen Frie...   \n",
       "\n",
       "                positive spans   positive object_spans predicted_labels  \n",
       "0                          ...                     ...         negative  \n",
       "1      völlig normaler Prozess             Klimawandel          neutral  \n",
       "2                          ...                     ...         negative  \n",
       "3                          ...                     ...         negative  \n",
       "4    handelt moralisch richtig  ['Israel ', 'Israel ']          neutral  \n",
       "..                         ...                     ...              ...  \n",
       "262                        ...                     ...         negative  \n",
       "263                        ...                     ...         negative  \n",
       "264                        ...                     ...          neutral  \n",
       "265                        ...                     ...         positive  \n",
       "266                        ...                     ...         negative  \n",
       "\n",
       "[267 rows x 9 columns]"
      ]
     },
     "execution_count": 33,
     "metadata": {},
     "output_type": "execute_result"
    }
   ],
   "source": [
    "df['predicted_labels'] = predicted_labels\n",
    "df = df[df['predicted_labels'] != 'NA']\n",
    "df = df.reset_index(drop=True)\n",
    "df"
   ]
  },
  {
   "cell_type": "code",
   "execution_count": 3,
   "metadata": {},
   "outputs": [
    {
     "name": "stdout",
     "output_type": "stream",
     "text": [
      "correct predictions: 205\n"
     ]
    }
   ],
   "source": [
    "correct_predictions = 0\n",
    "for i in range(len(df)):\n",
    "    if df['sentiment'][i] == df['predicted_labels'][i]:\n",
    "        correct_predictions += 1\n",
    "print('correct predictions:',correct_predictions)"
   ]
  },
  {
   "cell_type": "code",
   "execution_count": 4,
   "metadata": {},
   "outputs": [
    {
     "name": "stdout",
     "output_type": "stream",
     "text": [
      "Accuracy of mistral before fine tuning is 76.77902621722846 %\n"
     ]
    }
   ],
   "source": [
    "Accuracy = (correct_predictions/len(df))*100\n",
    "print('Accuracy of mistral before fine tuning is',Accuracy, '%')"
   ]
  },
  {
   "cell_type": "code",
   "execution_count": 36,
   "metadata": {},
   "outputs": [],
   "source": [
    "df.to_csv('ResultsBeforeFineTuning_SequnceClassification_mistral.csv', index=False)"
   ]
  }
 ],
 "metadata": {
  "kernelspec": {
   "display_name": "new_saint_env",
   "language": "python",
   "name": "python3"
  },
  "language_info": {
   "codemirror_mode": {
    "name": "ipython",
    "version": 3
   },
   "file_extension": ".py",
   "mimetype": "text/x-python",
   "name": "python",
   "nbconvert_exporter": "python",
   "pygments_lexer": "ipython3",
   "version": "3.12.4"
  }
 },
 "nbformat": 4,
 "nbformat_minor": 2
}
