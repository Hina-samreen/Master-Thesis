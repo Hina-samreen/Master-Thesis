{
 "cells": [
  {
   "cell_type": "code",
   "execution_count": null,
   "metadata": {},
   "outputs": [],
   "source": [
    "%pip install pandas\n",
    "%pip install transformers\n",
    "%pip install accelerate\n",
    "%pip install seaborn\n",
    "%pip install scikit-learn"
   ]
  },
  {
   "cell_type": "code",
   "execution_count": 1,
   "metadata": {},
   "outputs": [
    {
     "name": "stdout",
     "output_type": "stream",
     "text": [
      "env: CUDA_DEVICE_ORDER=PCI_BUS_ID\n",
      "env: CUDA_VISIBLE_DEVICES=3\n"
     ]
    }
   ],
   "source": [
    "%env CUDA_DEVICE_ORDER=PCI_BUS_ID\n",
    "%env CUDA_VISIBLE_DEVICES=3"
   ]
  },
  {
   "cell_type": "code",
   "execution_count": 2,
   "metadata": {},
   "outputs": [
    {
     "name": "stdout",
     "output_type": "stream",
     "text": [
      "cuda\n"
     ]
    }
   ],
   "source": [
    "import torch\n",
    "device = 'cuda' if torch.cuda.is_available() else 'cpu'\n",
    "print(device)"
   ]
  },
  {
   "cell_type": "code",
   "execution_count": 13,
   "metadata": {},
   "outputs": [],
   "source": [
    "import pandas as pd\n",
    "df = pd.read_csv('test_subset.csv')\n"
   ]
  },
  {
   "cell_type": "code",
   "execution_count": 4,
   "metadata": {},
   "outputs": [],
   "source": [
    "#text set for getting the results from LLM\n",
    "texts = list(df.text)"
   ]
  },
  {
   "cell_type": "markdown",
   "metadata": {},
   "source": [
    "### Chat propmt used to get the labels of sequences using the fine-tuned model"
   ]
  },
  {
   "cell_type": "code",
   "execution_count": 5,
   "metadata": {},
   "outputs": [
    {
     "name": "stderr",
     "output_type": "stream",
     "text": [
      "/ltstorage/home/1samreen/miniconda3/envs/new_saint_env/lib/python3.10/site-packages/tqdm/auto.py:21: TqdmWarning: IProgress not found. Please update jupyter and ipywidgets. See https://ipywidgets.readthedocs.io/en/stable/user_install.html\n",
      "  from .autonotebook import tqdm as notebook_tqdm\n"
     ]
    },
    {
     "name": "stdout",
     "output_type": "stream",
     "text": [
      "🦥 Unsloth: Will patch your computer to enable 2x faster free finetuning.\n",
      "==((====))==  Unsloth 2024.8: Fast Mistral patching. Transformers = 4.44.0.\n",
      "   \\\\   /|    GPU: NVIDIA A100 80GB PCIe. Max memory: 79.138 GB. Platform = Linux.\n",
      "O^O/ \\_/ \\    Pytorch: 2.3.0+cu121. CUDA = 8.0. CUDA Toolkit = 12.1.\n",
      "\\        /    Bfloat16 = TRUE. FA [Xformers = 0.0.26.post1. FA2 = False]\n",
      " \"-____-\"     Free Apache license: http://github.com/unslothai/unsloth\n"
     ]
    },
    {
     "name": "stderr",
     "output_type": "stream",
     "text": [
      "Unsloth 2024.8 patched 32 layers with 32 QKV layers, 32 O layers and 32 MLP layers.\n",
      "The attention mask is not set and cannot be inferred from input because pad token is same as eos token. As a consequence, you may observe unexpected behavior. Please pass your input's `attention_mask` to obtain reliable results.\n"
     ]
    },
    {
     "name": "stdout",
     "output_type": "stream",
     "text": [
      "300\n"
     ]
    }
   ],
   "source": [
    "load_in_4bit = True\n",
    "dtype = None\n",
    "if True:\n",
    "    from unsloth import FastLanguageModel\n",
    "    model, tokenizer = FastLanguageModel.from_pretrained(\n",
    "        model_name = \"Hina541/fine-tuned-mistralModelSequence_latest_15Epochs\", # YOUR MODEL YOU USED FOR TRAINING\n",
    "        max_seq_length = 512,\n",
    "        dtype = dtype,\n",
    "        load_in_4bit = load_in_4bit,\n",
    "    )\n",
    "    FastLanguageModel.for_inference(model)\n",
    "prompt = f\"Classify the sentiment of each text into ONE of the three classes: neutral, negative or positive. Text:\"\n",
    "\n",
    "answers = []\n",
    "#text_list =[ \"Ukraine deckt auf 😂😂😂😂😂\\nDie mussten was sagen, nicht das man denkt der Staat wäre korrupt und es würde keinen Kampf dagegen geben ☝️\\n\\nKorrupt bleibt korrupt - auch die, da wird sich auch nichts änder 😆\",'Nur Politiker wollen Krieg ! Was wenn keiner mehr Bock hat für diese 5 Politiker zu sterben warum drehen wir den Spieß nich einfach um ? 😕 frage für n Freund']\n",
    "for text in texts:\n",
    "    chat_template = [{\"role\" : \"user\", \"content\" : f\"{prompt} {text}\"}]\n",
    "\n",
    "    chat_prompt = tokenizer.apply_chat_template(chat_template, tokenize=False, add_generation_prompt=True)\n",
    "    inputs = tokenizer.encode(chat_prompt, add_special_tokens=False, return_tensors=\"pt\", max_length=512, padding=True)\n",
    "    outputs = model.generate(input_ids=inputs.to(\"cuda\"), max_new_tokens = 512)\n",
    "    answer = tokenizer.decode(outputs[0])\n",
    "    answers.append(answer)\n",
    "    #print(answer)\n",
    "print(len(answers))\n"
   ]
  },
  {
   "cell_type": "markdown",
   "metadata": {},
   "source": [
    "### Pre-processing the results in the desired format , so as to evaluate the accuracy"
   ]
  },
  {
   "cell_type": "code",
   "execution_count": 18,
   "metadata": {},
   "outputs": [
    {
     "name": "stdout",
     "output_type": "stream",
     "text": [
      "300\n"
     ]
    }
   ],
   "source": [
    "labels = []\n",
    "for answer in answers:\n",
    "    #print(answer.split('<start_of_turn>model')[1].strip()[:-5])\n",
    "    labels.append(answer.split('[/INST]')[1][:-4].strip())\n",
    "print(len(labels))"
   ]
  },
  {
   "cell_type": "code",
   "execution_count": 19,
   "metadata": {},
   "outputs": [],
   "source": [
    "df['predicted_sentiment_llm'] = labels"
   ]
  },
  {
   "cell_type": "code",
   "execution_count": 22,
   "metadata": {},
   "outputs": [
    {
     "data": {
      "text/plain": [
       "300"
      ]
     },
     "execution_count": 22,
     "metadata": {},
     "output_type": "execute_result"
    }
   ],
   "source": [
    "#getting only the classes 'Negative','Positive,'and 'Neutral' and ignoring other classes if any other are present\n",
    "df = df[('negative' == df['predicted_sentiment_llm']) |  ('positive' == df['predicted_sentiment_llm']) | ('neutral' == df['predicted_sentiment_llm'])]\n",
    "df = df.reset_index(drop=True)\n",
    "for i in range(len(df)):\n",
    "    df.loc[i,'predicted_sentiment_llm'] = str(df['predicted_sentiment_llm'][i]).lower()\n",
    "len(df)"
   ]
  },
  {
   "cell_type": "code",
   "execution_count": 20,
   "metadata": {},
   "outputs": [
    {
     "data": {
      "text/html": [
       "<div>\n",
       "<style scoped>\n",
       "    .dataframe tbody tr th:only-of-type {\n",
       "        vertical-align: middle;\n",
       "    }\n",
       "\n",
       "    .dataframe tbody tr th {\n",
       "        vertical-align: top;\n",
       "    }\n",
       "\n",
       "    .dataframe thead th {\n",
       "        text-align: right;\n",
       "    }\n",
       "</style>\n",
       "<table border=\"1\" class=\"dataframe\">\n",
       "  <thead>\n",
       "    <tr style=\"text-align: right;\">\n",
       "      <th></th>\n",
       "      <th>user</th>\n",
       "      <th>instance_id</th>\n",
       "      <th>text</th>\n",
       "      <th>sentiment</th>\n",
       "      <th>negative object_spans</th>\n",
       "      <th>negative spans</th>\n",
       "      <th>positive spans</th>\n",
       "      <th>positive object_spans</th>\n",
       "      <th>predicted_sentiment_llm</th>\n",
       "    </tr>\n",
       "  </thead>\n",
       "  <tbody>\n",
       "    <tr>\n",
       "      <th>0</th>\n",
       "      <td>ekaterini@gmail.com</td>\n",
       "      <td>898</td>\n",
       "      <td>Nur Politiker wollen Krieg ! Was wenn keiner m...</td>\n",
       "      <td>negative</td>\n",
       "      <td>['Politiker ', 'Krieg ']</td>\n",
       "      <td>['Was wenn keiner mehr Bock hat', 'zu sterben'...</td>\n",
       "      <td>...</td>\n",
       "      <td>...</td>\n",
       "      <td>negative</td>\n",
       "    </tr>\n",
       "    <tr>\n",
       "      <th>1</th>\n",
       "      <td>ekaterini@gmail.com</td>\n",
       "      <td>833</td>\n",
       "      <td>Der Klimawandel ist ein völlig normaler Prozes...</td>\n",
       "      <td>positive</td>\n",
       "      <td>...</td>\n",
       "      <td>...</td>\n",
       "      <td>völlig normaler Prozess</td>\n",
       "      <td>Klimawandel</td>\n",
       "      <td>negative</td>\n",
       "    </tr>\n",
       "    <tr>\n",
       "      <th>2</th>\n",
       "      <td>ekaterini@gmail.com</td>\n",
       "      <td>1428</td>\n",
       "      <td>Man will die Stadthalle für einen #Bürgerdialo...</td>\n",
       "      <td>negative</td>\n",
       "      <td>Demokraten</td>\n",
       "      <td>['missliebige Partei ', 'Was denken die']</td>\n",
       "      <td>...</td>\n",
       "      <td>...</td>\n",
       "      <td>negative</td>\n",
       "    </tr>\n",
       "    <tr>\n",
       "      <th>3</th>\n",
       "      <td>ekaterini@gmail.com</td>\n",
       "      <td>431</td>\n",
       "      <td>Besonders beliebt ist auch \"Wir mussten währen...</td>\n",
       "      <td>negative</td>\n",
       "      <td>Corona</td>\n",
       "      <td>die während Corona auch gern auf die Maske ver...</td>\n",
       "      <td>...</td>\n",
       "      <td>...</td>\n",
       "      <td>negative</td>\n",
       "    </tr>\n",
       "    <tr>\n",
       "      <th>4</th>\n",
       "      <td>ekaterini@gmail.com</td>\n",
       "      <td>1315</td>\n",
       "      <td>Die USA sollten sich mäßigen Israel zu ermahne...</td>\n",
       "      <td>positive</td>\n",
       "      <td>...</td>\n",
       "      <td>...</td>\n",
       "      <td>handelt moralisch richtig</td>\n",
       "      <td>['Israel ', 'Israel ']</td>\n",
       "      <td>positive</td>\n",
       "    </tr>\n",
       "    <tr>\n",
       "      <th>...</th>\n",
       "      <td>...</td>\n",
       "      <td>...</td>\n",
       "      <td>...</td>\n",
       "      <td>...</td>\n",
       "      <td>...</td>\n",
       "      <td>...</td>\n",
       "      <td>...</td>\n",
       "      <td>...</td>\n",
       "      <td>...</td>\n",
       "    </tr>\n",
       "    <tr>\n",
       "      <th>295</th>\n",
       "      <td>ekaterini@gmail.com</td>\n",
       "      <td>1134</td>\n",
       "      <td>Auch Israel begeht Kriegsverbrechen an der Ziv...</td>\n",
       "      <td>negative</td>\n",
       "      <td>Israel</td>\n",
       "      <td>['begeht Kriegsverbrechen', 'aber Kritik an Is...</td>\n",
       "      <td>...</td>\n",
       "      <td>...</td>\n",
       "      <td>negative</td>\n",
       "    </tr>\n",
       "    <tr>\n",
       "      <th>296</th>\n",
       "      <td>ekaterini@gmail.com</td>\n",
       "      <td>127</td>\n",
       "      <td>Sogenannte Zivilisten? geht's noch?</td>\n",
       "      <td>negative</td>\n",
       "      <td>...</td>\n",
       "      <td>geht's noch?</td>\n",
       "      <td>...</td>\n",
       "      <td>...</td>\n",
       "      <td>neutral</td>\n",
       "    </tr>\n",
       "    <tr>\n",
       "      <th>297</th>\n",
       "      <td>ekaterini@gmail.com</td>\n",
       "      <td>366</td>\n",
       "      <td>Ganz normal, dass wir in Zeiten der Klimakrise...</td>\n",
       "      <td>negative</td>\n",
       "      <td>Klimakrise</td>\n",
       "      <td>['hypokapitalistischen', 'Nice one, Humanity',...</td>\n",
       "      <td>...</td>\n",
       "      <td>...</td>\n",
       "      <td>negative</td>\n",
       "    </tr>\n",
       "    <tr>\n",
       "      <th>298</th>\n",
       "      <td>ekaterini@gmail.com</td>\n",
       "      <td>473</td>\n",
       "      <td>Kleine Nachhilfe: Ein paar hunderttausend Grün...</td>\n",
       "      <td>negative</td>\n",
       "      <td>Grüne</td>\n",
       "      <td>eine Klatsche bekommen habt</td>\n",
       "      <td>...</td>\n",
       "      <td>...</td>\n",
       "      <td>negative</td>\n",
       "    </tr>\n",
       "    <tr>\n",
       "      <th>299</th>\n",
       "      <td>ekaterini@gmail.com</td>\n",
       "      <td>125</td>\n",
       "      <td>Hamas wird wie immer die Feuerpause brechen. D...</td>\n",
       "      <td>negative</td>\n",
       "      <td>Hamas</td>\n",
       "      <td>['Feuerpause brechen', 'Die wollen keinen Frie...</td>\n",
       "      <td>...</td>\n",
       "      <td>...</td>\n",
       "      <td>negative</td>\n",
       "    </tr>\n",
       "  </tbody>\n",
       "</table>\n",
       "<p>300 rows × 9 columns</p>\n",
       "</div>"
      ],
      "text/plain": [
       "                    user  instance_id  \\\n",
       "0    ekaterini@gmail.com          898   \n",
       "1    ekaterini@gmail.com          833   \n",
       "2    ekaterini@gmail.com         1428   \n",
       "3    ekaterini@gmail.com          431   \n",
       "4    ekaterini@gmail.com         1315   \n",
       "..                   ...          ...   \n",
       "295  ekaterini@gmail.com         1134   \n",
       "296  ekaterini@gmail.com          127   \n",
       "297  ekaterini@gmail.com          366   \n",
       "298  ekaterini@gmail.com          473   \n",
       "299  ekaterini@gmail.com          125   \n",
       "\n",
       "                                                  text sentiment  \\\n",
       "0    Nur Politiker wollen Krieg ! Was wenn keiner m...  negative   \n",
       "1    Der Klimawandel ist ein völlig normaler Prozes...  positive   \n",
       "2    Man will die Stadthalle für einen #Bürgerdialo...  negative   \n",
       "3    Besonders beliebt ist auch \"Wir mussten währen...  negative   \n",
       "4    Die USA sollten sich mäßigen Israel zu ermahne...  positive   \n",
       "..                                                 ...       ...   \n",
       "295  Auch Israel begeht Kriegsverbrechen an der Ziv...  negative   \n",
       "296                Sogenannte Zivilisten? geht's noch?  negative   \n",
       "297  Ganz normal, dass wir in Zeiten der Klimakrise...  negative   \n",
       "298  Kleine Nachhilfe: Ein paar hunderttausend Grün...  negative   \n",
       "299  Hamas wird wie immer die Feuerpause brechen. D...  negative   \n",
       "\n",
       "        negative object_spans  \\\n",
       "0    ['Politiker ', 'Krieg ']   \n",
       "1                         ...   \n",
       "2                  Demokraten   \n",
       "3                     Corona    \n",
       "4                         ...   \n",
       "..                        ...   \n",
       "295                    Israel   \n",
       "296                       ...   \n",
       "297                Klimakrise   \n",
       "298                    Grüne    \n",
       "299                    Hamas    \n",
       "\n",
       "                                        negative spans  \\\n",
       "0    ['Was wenn keiner mehr Bock hat', 'zu sterben'...   \n",
       "1                                                  ...   \n",
       "2            ['missliebige Partei ', 'Was denken die']   \n",
       "3    die während Corona auch gern auf die Maske ver...   \n",
       "4                                                  ...   \n",
       "..                                                 ...   \n",
       "295  ['begeht Kriegsverbrechen', 'aber Kritik an Is...   \n",
       "296                                       geht's noch?   \n",
       "297  ['hypokapitalistischen', 'Nice one, Humanity',...   \n",
       "298                        eine Klatsche bekommen habt   \n",
       "299  ['Feuerpause brechen', 'Die wollen keinen Frie...   \n",
       "\n",
       "                positive spans   positive object_spans predicted_sentiment_llm  \n",
       "0                          ...                     ...                negative  \n",
       "1      völlig normaler Prozess             Klimawandel                negative  \n",
       "2                          ...                     ...                negative  \n",
       "3                          ...                     ...                negative  \n",
       "4    handelt moralisch richtig  ['Israel ', 'Israel ']                positive  \n",
       "..                         ...                     ...                     ...  \n",
       "295                        ...                     ...                negative  \n",
       "296                        ...                     ...                 neutral  \n",
       "297                        ...                     ...                negative  \n",
       "298                        ...                     ...                negative  \n",
       "299                        ...                     ...                negative  \n",
       "\n",
       "[300 rows x 9 columns]"
      ]
     },
     "execution_count": 20,
     "metadata": {},
     "output_type": "execute_result"
    }
   ],
   "source": [
    "df"
   ]
  },
  {
   "cell_type": "code",
   "execution_count": 21,
   "metadata": {},
   "outputs": [
    {
     "name": "stdout",
     "output_type": "stream",
     "text": [
      "correct predictions: 250\n"
     ]
    }
   ],
   "source": [
    "correct_predictions = 0\n",
    "for i in range(len(df)):\n",
    "    if df['sentiment'][i] == df['predicted_sentiment_llm'][i]:\n",
    "        correct_predictions += 1\n",
    "print('correct predictions:',correct_predictions)"
   ]
  },
  {
   "cell_type": "code",
   "execution_count": 24,
   "metadata": {},
   "outputs": [
    {
     "name": "stdout",
     "output_type": "stream",
     "text": [
      "Accuracy of Mistral after fine tuning is 83.33333333333334 %\n"
     ]
    }
   ],
   "source": [
    "Accuracy = (correct_predictions/len(df))*100\n",
    "print('Accuracy of Mistral after fine tuning is',Accuracy, '%')"
   ]
  },
  {
   "cell_type": "code",
   "execution_count": 25,
   "metadata": {},
   "outputs": [],
   "source": [
    "df.to_csv('ResultsAfterFineTuning_SequnceClassification_Mistral15Epochs.csv', index=False)"
   ]
  },
  {
   "cell_type": "markdown",
   "metadata": {},
   "source": [
    "### Generating a Confusion matrix"
   ]
  },
  {
   "cell_type": "code",
   "execution_count": 32,
   "metadata": {},
   "outputs": [
    {
     "data": {
      "text/plain": [
       "Text(0.5, 1.0, 'Confusion Matrix for XLM Roberta Model(fine-tuned)')"
      ]
     },
     "execution_count": 32,
     "metadata": {},
     "output_type": "execute_result"
    },
    {
     "data": {
      "image/png": "[encoded data removed]",
      "text/plain": [
       "<Figure size 640x480 with 2 Axes>"
      ]
     },
     "metadata": {},
     "output_type": "display_data"
    }
   ],
   "source": [
    "import seaborn as sns\n",
    "import numpy as np\n",
    "from sklearn.metrics import confusion_matrix\n",
    "\n",
    "conf_matrix = confusion_matrix(df['sentiment'], df['predicted_sentiment_llm'])\n",
    "\n",
    "group_names = ['True Neg','False Neutral','False Pos','False Neg','True Neutral','False Pos','False Neg','False Neutral','True Pos']\n",
    "group_counts = [\"{0:0.0f}\".format(value) for value in conf_matrix.flatten()]\n",
    "labels = [f\"{v1}\\n{v2}\" for v1, v2 in\n",
    "          zip(group_names,group_counts)]\n",
    "labels = np.asarray(labels).reshape(3, -1, order='C')\n",
    "\n",
    "ax = sns.heatmap(conf_matrix, annot=labels, fmt='', cmap='Blues')\n",
    "ax.set_xlabel(\"Predicted Labels\", fontsize=14, labelpad=20)\n",
    "ax.xaxis.set_ticklabels(['Negative', 'Neutral', 'Positive'])\n",
    "\n",
    "ax.set_ylabel(\"Actual Labels\", fontsize=14, labelpad=20)\n",
    "ax.yaxis.set_ticklabels(['Negative', 'Neutral', 'Positive'])\n",
    "\n",
    "ax.set_title(\"Confusion Matrix for XLM Roberta Model(fine-tuned)\", fontsize=14, pad=20)"
   ]
  }
 ],
 "metadata": {
  "kernelspec": {
   "display_name": "new_saint_env",
   "language": "python",
   "name": "python3"
  },
  "language_info": {
   "codemirror_mode": {
    "name": "ipython",
    "version": 3
   },
   "file_extension": ".py",
   "mimetype": "text/x-python",
   "name": "python",
   "nbconvert_exporter": "python",
   "pygments_lexer": "ipython3",
   "version": "3.10.14"
  }
 },
 "nbformat": 4,
 "nbformat_minor": 2
}
