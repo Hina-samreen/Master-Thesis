{
 "cells": [
  {
   "cell_type": "code",
   "execution_count": 1,
   "metadata": {},
   "outputs": [],
   "source": [
    "import pandas as pd\n",
    "from ast import literal_eval"
   ]
  },
  {
   "cell_type": "markdown",
   "metadata": {},
   "source": [
    "### Reading the result file that we saved from captum training"
   ]
  },
  {
   "cell_type": "code",
   "execution_count": null,
   "metadata": {},
   "outputs": [],
   "source": [
    "df = pd.read_csv('results_test_subset_fine-tuned-xlm_roberta-german-WithNeutral.csv', converters={'Words':literal_eval})\n",
    "pd.options.display.max_colwidth = 1000\n",
    "df"
   ]
  },
  {
   "cell_type": "markdown",
   "metadata": {},
   "source": [
    "Converting the spans(negative object spans and positive object spans columns) which are strings to lists for the code to work properly"
   ]
  },
  {
   "cell_type": "code",
   "execution_count": 4,
   "metadata": {},
   "outputs": [],
   "source": [
    "df.rename(columns={'negative object_spans':'negative_object_spans','negative spans':'negative_spans','positive object_spans':'positive_object_spans','positive spans':'positive_spans'}, inplace=True)\n",
    "\n",
    "new_list_positive_object_spans = []\n",
    "new_list_positive_spans = []\n",
    "new_list_negative_object_spans = []\n",
    "new_list_negative_spans =[]\n",
    "\n",
    "list_positive_object_spans = df.positive_object_spans\n",
    "list_positive_spans = list(df.positive_spans)\n",
    "list_negative_object_spans = df.negative_object_spans\n",
    "list_negative_spans = list(df.negative_spans)\n",
    "\n",
    "#print(list_negative_object_spans)\n",
    "#print(list_negative_spans)\n",
    "#print(list_positive_object_spans)\n",
    "\n",
    "for item in list_positive_object_spans:\n",
    "    if not '[' in item:\n",
    "        new_list_positive_object_spans.append(item.split())\n",
    "    else:\n",
    "        new_list_positive_object_spans.append(item)\n",
    "\n",
    "for item in list_positive_spans:\n",
    "    if not '[' in item:\n",
    "        new_list_positive_spans.append(item.split())\n",
    "    else:\n",
    "        new_list_positive_spans.append(item)\n",
    "\n",
    "for item in list_negative_object_spans:\n",
    "    if not '[' in item:\n",
    "        new_list_negative_object_spans.append(item.split())\n",
    "    else:\n",
    "        new_list_negative_object_spans.append(item)\n",
    "\n",
    "for item in list_negative_spans:\n",
    "    if not '[' in item:\n",
    "        new_list_negative_spans.append(item.split())\n",
    "    else:\n",
    "        new_list_negative_spans.append(item)"
   ]
  },
  {
   "cell_type": "code",
   "execution_count": 5,
   "metadata": {},
   "outputs": [],
   "source": [
    "df['negative_object_spans'] = new_list_negative_object_spans\n",
    "df['negative_spans'] = new_list_negative_spans\n",
    "df['positive_object_spans'] = new_list_positive_object_spans\n",
    "df['positive_spans'] = new_list_positive_spans"
   ]
  },
  {
   "cell_type": "markdown",
   "metadata": {},
   "source": [
    "Checking every word if present in the spans from original data and if attributions are positive or negative and creating tokens and predicted labels respectively"
   ]
  },
  {
   "cell_type": "code",
   "execution_count": 15,
   "metadata": {},
   "outputs": [
    {
     "name": "stdout",
     "output_type": "stream",
     "text": [
      "8378\n",
      "8378\n",
      "8378\n"
     ]
    }
   ],
   "source": [
    "words_in_spans = []\n",
    "predicted_labels = []\n",
    "actual_label = []\n",
    "for i in range(len(df)):\n",
    "    for row in df['Words'][i]:\n",
    "        row['word'] = ''.join(e for e in row['word'] if e.isalnum())\n",
    "        if row['word'] != '':\n",
    "            if row['word'] in df['negative_object_spans'][i] or row['word'] in  df['negative_spans'][i] or row['word'] in df['positive_spans'][i] or row['word'] in df['positive_object_spans'][i]:\n",
    "                words_in_spans.append(row['word'])\n",
    "                if len(row['attributions']) > 1:\n",
    "                    max_attribution = max(row['attributions'])\n",
    "                    if max_attribution > 0:\n",
    "                        predicted_labels.append(df['Predicted Label'][i])\n",
    "                        actual_label.append(df['Actual Label'][i])\n",
    "                    else:\n",
    "                        predicted_labels.append('O')\n",
    "                        actual_label.append('O')\n",
    "                else:\n",
    "                    if row['attributions'][0] > 0:\n",
    "                        predicted_labels.append(df['Predicted Label'][i])\n",
    "                        actual_label.append(df['Actual Label'][i])\n",
    "                    else:\n",
    "                        predicted_labels.append('O')\n",
    "                        actual_label.append('O')\n",
    "            else:\n",
    "                words_in_spans.append(row['word'])\n",
    "                predicted_labels.append('O')\n",
    "                actual_label.append('O')\n",
    "    words_in_spans.append(' ')\n",
    "    actual_label.append(' ')\n",
    "    predicted_labels.append(' ')\n",
    "print(len(words_in_spans))\n",
    "print(len(predicted_labels))\n",
    "print(len(actual_label))\n"
   ]
  },
  {
   "cell_type": "code",
   "execution_count": 8,
   "metadata": {},
   "outputs": [],
   "source": [
    "df_ner_captum = pd.DataFrame(columns=['tokens','actual','predicted'])"
   ]
  },
  {
   "cell_type": "code",
   "execution_count": 9,
   "metadata": {},
   "outputs": [],
   "source": [
    "df_ner_captum['tokens'] = words_in_spans\n",
    "df_ner_captum['actual'] = actual_label\n",
    "df_ner_captum['predicted'] = predicted_labels"
   ]
  },
  {
   "cell_type": "code",
   "execution_count": 10,
   "metadata": {},
   "outputs": [],
   "source": [
    "def transform_labels(example, column):\n",
    "    print(str(column))\n",
    "    for i in range(len(example)):\n",
    "        if example[column][i] == 0:\n",
    "            #print(i)\n",
    "            df_ner_captum.loc[i,column] = 'negative'\n",
    "        elif example[column][i] == 1:\n",
    "            df_ner_captum.loc[i,column] = 'O'\n",
    "        elif example[column][i] == 2:\n",
    "            df_ner_captum.loc[i,column] = 'positive'"
   ]
  },
  {
   "cell_type": "code",
   "execution_count": 11,
   "metadata": {},
   "outputs": [
    {
     "name": "stdout",
     "output_type": "stream",
     "text": [
      "actual\n",
      "predicted\n"
     ]
    }
   ],
   "source": [
    "transform_labels(df_ner_captum, 'actual')\n",
    "transform_labels(df_ner_captum, 'predicted')"
   ]
  },
  {
   "cell_type": "markdown",
   "metadata": {},
   "source": [
    "Saving the above results in a file without header and tab seperated. Now with this file we can do NER evaluation using conlleval"
   ]
  },
  {
   "cell_type": "code",
   "execution_count": 14,
   "metadata": {},
   "outputs": [],
   "source": [
    "df_ner_captum.to_csv('ResultsFromCaptumNEREvaluationXLMRobertaWithNeutralLatestCorrected4th.csv', index =False, sep='\\t', header=False)"
   ]
  },
  {
   "cell_type": "code",
   "execution_count": null,
   "metadata": {
    "vscode": {
     "languageId": "plaintext"
    }
   },
   "outputs": [],
   "source": [
    "### Below are the results of NER Evaluation\n",
    "#### python conlleval_perl.py -r < ResultsFromCaptumNEREvaluationXLMRobertaWithNeutralLatestCorrected4th.csv   -- command used for NER evaluation\n",
    "processed 8078 tokens with 1657 phrases; found: 1631 phrases; correct: 1447.\n",
    "accuracy:  97.40%; precision:  88.72%; recall:  87.33%; FB1:  88.02\n",
    "         negative: precision:  91.60%; recall:  93.91%; FB1:  92.74  1464\n",
    "         positive: precision:  63.47%; recall:  46.29%; FB1:  53.54  167"
   ]
  }
 ],
 "metadata": {
  "kernelspec": {
   "display_name": "saint_env",
   "language": "python",
   "name": "python3"
  },
  "language_info": {
   "codemirror_mode": {
    "name": "ipython",
    "version": 3
   },
   "file_extension": ".py",
   "mimetype": "text/x-python",
   "name": "python",
   "nbconvert_exporter": "python",
   "pygments_lexer": "ipython3",
   "version": "3.12.4"
  }
 },
 "nbformat": 4,
 "nbformat_minor": 2
}
